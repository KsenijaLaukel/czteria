{
  "nbformat": 4,
  "nbformat_minor": 0,
  "metadata": {
    "colab": {
      "provenance": [],
      "authorship_tag": "ABX9TyNKmF6tHtZFeJ3/UbKcHR6d",
      "include_colab_link": true
    },
    "kernelspec": {
      "name": "python3",
      "display_name": "Python 3"
    },
    "language_info": {
      "name": "python"
    }
  },
  "cells": [
    {
      "cell_type": "markdown",
      "metadata": {
        "id": "view-in-github",
        "colab_type": "text"
      },
      "source": [
        "<a href=\"https://colab.research.google.com/github/KsenijaLaukel/czteria/blob/main/prolog01.ipynb\" target=\"_parent\"><img src=\"https://colab.research.google.com/assets/colab-badge.svg\" alt=\"Open In Colab\"/></a>"
      ]
    },
    {
      "cell_type": "code",
      "source": [
        "#1\n",
        "Fakty\n",
        "ojciec(jan, anna).\n",
        "ojciec(igor, marta).\n",
        "\n",
        "Reguły\n",
        "czy_jest_ojcem(Ojciec, Dziecko) :-\n",
        "    ojciec(Ojciec, Dziecko).\n",
        "\n",
        "Zapytanie\n",
        "czy_jest_ojcem(jan, anna).\n",
        "\n",
        "Result\n",
        "true"
      ],
      "metadata": {
        "id": "kMrsJ0U1_XDl"
      },
      "execution_count": null,
      "outputs": []
    },
    {
      "cell_type": "code",
      "execution_count": null,
      "metadata": {
        "id": "PUWnHyFS-oSA"
      },
      "outputs": [],
      "source": [
        "#2\n",
        "Fakty\n",
        "ojciec(jan, anna).\n",
        "ojciec(igor, marta).\n",
        "matka(kasia, anna).\n",
        "matka(wiktoria, marta).\n",
        "\n",
        "Reguły\n",
        "czy_jest_rodzicem(OjciecMatka, Dziecko) :-\n",
        "    ojciec(OjciecMatka, Dziecko).\n",
        "czy_jest_rodzicem(OjciecMatka, Dziecko) :-\n",
        "   matka(OjciecMatka, Dziecko).\n",
        "\n",
        "Zapytanie\n",
        "czy_jest_rodzicem(jan, anna)\n",
        "\n",
        "Result\n",
        "true"
      ]
    },
    {
      "cell_type": "code",
      "source": [
        "#3\n",
        "Fakty\n",
        "ojciec(jan, anna).\n",
        "ojciec(igor, marta).\n",
        "ojciec(alex, jan).\n",
        "\n",
        "matka(kasia, anna).\n",
        "matka(wiktoria, marta).\n",
        "\n",
        "\n",
        "\n",
        "Reguly\n",
        "    rodzic(X, Y) :- ojciec(X, Y).\n",
        "    rodzic(X, Y) :- matka(X, Y).\n",
        "\n",
        "Reguła dziadka\n",
        "dziadek(X, Y) :-\n",
        "    ojciec(X, Z),\n",
        "    rodzic(Z, Y).\n",
        "\n",
        "\n",
        "Zaputanie\n",
        "   dziadek(alex, anna)\n",
        "\n",
        "\n",
        "Result\n",
        "true"
      ],
      "metadata": {
        "id": "nxMlB0N3Av24"
      },
      "execution_count": null,
      "outputs": []
    },
    {
      "cell_type": "code",
      "source": [
        "#4\n",
        "Fakty\n",
        "\n",
        "ojciec(jan, anna).\n",
        "ojciec(jan, kasia).\n",
        "matka(maria, anna).\n",
        "matka(maria, kasia).\n",
        "\n",
        "Reguly\n",
        "czy_jest_rodzicem(OjciecMatka, Dziecko) :-\n",
        "    ojciec(OjciecMatka, Dziecko).\n",
        "czy_jest_rodzicem(OjciecMatka, Dziecko) :-\n",
        "    matka(OjciecMatka, Dziecko).\n",
        "czy_jest_siostra(X, Y) :-\n",
        "    (ojciec(Rodzic, X); matka(Rodzic, X)),\n",
        "    (ojciec(Rodzic, Y); matka(Rodzic, Y)),\n",
        "    X \\= Y.\n",
        "\n",
        "Zapytania\n",
        "czy_jest_siostra(kasia, anna).\n",
        "\n",
        "Result\n",
        "true"
      ],
      "metadata": {
        "id": "CEZiiiVPzWXF"
      },
      "execution_count": null,
      "outputs": []
    },
    {
      "cell_type": "code",
      "source": [
        "#5\n",
        "Fakty\n",
        "ojciec(jan, anna).\n",
        "ojciec(piotr, kasia).\n",
        "matka(maria, anna).\n",
        "matka(ewa, kasia).\n",
        "\n",
        "Reguly\n",
        "czy_jest_rodzicem(OjciecMatka, Dziecko) :-\n",
        "    ojciec(OjciecMatka, Dziecko).\n",
        "czy_jest_rodzicem(OjciecMatka, Dziecko) :-\n",
        "    matka(OjciecMatka, Dziecko).\n",
        "\n",
        "Zapytanie\n",
        "czyj_rodzic(jan, Dzieci).\n",
        "\n",
        "Result\n",
        "Dzieci = [anna]."
      ],
      "metadata": {
        "id": "curhjAVUyDL6"
      },
      "execution_count": null,
      "outputs": []
    },
    {
      "cell_type": "code",
      "source": [
        "#6\n",
        "Fakty\n",
        "\n",
        "ojciec(jan, anna).\n",
        "ojciec(piotr, kasia).\n",
        "matka(maria, anna).\n",
        "matka(ewa, kasia).\n",
        "\n",
        "Reguly\n",
        "czyj_rodzic(Rodzic, Dziecko) :-\n",
        "    ojciec(Rodzic, Dziecko).\n",
        "czyj_rodzic(Rodzic, Dziecko) :-\n",
        "    matka(Rodzic, Dziecko).\n",
        "\n",
        "Zapytanie\n",
        "czyj_rodzic(piotr, Dziecko).\n",
        "\n",
        "Result\n",
        "Dziecko = kasia"
      ],
      "metadata": {
        "id": "KggYBv6rBGt5"
      },
      "execution_count": null,
      "outputs": []
    },
    {
      "cell_type": "code",
      "source": [
        "#7\n",
        "Fakty\n",
        "ojciec(jan, anna).\n",
        "ojciec(piotr, kasia).\n",
        "matka(maria, anna).\n",
        "matka(ewa, kasia).\n",
        "\n",
        "Regul\n",
        "rodzic_bez_cut(Rodzic, Dziecko) :-\n",
        "    ojciec(Rodzic, Dziecko).\n",
        "rodzic_bez_cut(Rodzic, Dziecko) :-\n",
        "    matka(Rodzic, Dziecko).\n",
        "\n",
        "rodzic_cut(Rodzic, Dziecko) :-\n",
        "    ojciec(Rodzic, Dziecko), !.\n",
        "rodzic_cut(Rodzic, Dziecko) :-\n",
        "    matka(Rodzic, Dziecko), !.\n",
        "\n",
        "Zapytanie\n",
        "rodzic_cut(jan, Dziecko).\n",
        "\n",
        "Result\n",
        "  Dziecko = anna"
      ],
      "metadata": {
        "id": "EcxGdOSRwrpn"
      },
      "execution_count": null,
      "outputs": []
    },
    {
      "cell_type": "code",
      "source": [
        "#8\n",
        "Fakty\n",
        "ojciec(jan, anna).\n",
        "ojciec(piotr, kasia).\n",
        "matka(maria, anna).\n",
        "matka(ewa, kasia).\n",
        "\n",
        "Regul\n",
        "rodzic(X, Y) :-\n",
        "    ojciec(X, Y);\n",
        "    matka(X, Y).\n",
        "\n",
        "Zapytanie\n",
        "rodzic(jan, anna).\n",
        "\n",
        "Result\n",
        "true"
      ],
      "metadata": {
        "id": "j-Pp9FXiw5DH"
      },
      "execution_count": null,
      "outputs": []
    },
    {
      "cell_type": "code",
      "source": [
        "#9\n",
        "Fakty\n",
        "ojciec(jan, anna).\n",
        "ojciec(piotr, kasia).\n",
        "matka(maria, anna).\n",
        "matka(ewa, kasia).\n",
        "\n",
        "wiek(jan, 50).\n",
        "wiek(maria, 48).\n",
        "wiek(piotr, 45).\n",
        "wiek(ewa, 42).\n",
        "wiek(anna, 20).\n",
        "wiek(kasia, 18).\n",
        "\n",
        "Regul\n",
        "starszy(X, Y) :-\n",
        "    wiek(X, WiekX),\n",
        "    wiek(Y, WiekY),\n",
        "    WiekX > WiekY.\n",
        "\n",
        "Zapytanie\n",
        "starszy(jan, anna).\n",
        "\n",
        "Result\n",
        "true"
      ],
      "metadata": {
        "id": "AfFCcszrxPaA"
      },
      "execution_count": null,
      "outputs": []
    },
    {
      "cell_type": "code",
      "source": [
        "#10\n",
        "Fakty\n",
        "ojciec(jan, anna).\n",
        "ojciec(piotr, kasia).\n",
        "matka(maria, anna).\n",
        "matka(ewa, kasia).\n",
        "\n",
        "wiek(jan, 50).\n",
        "wiek(maria, 48).\n",
        "wiek(piotr, 45).\n",
        "wiek(ewa, 42).\n",
        "wiek(anna, 20).\n",
        "wiek(kasia, 18).\n",
        "\n",
        "Regul\n",
        "wiek_wiecej_niz(N) :-\n",
        "    wiek(OSOBA, WIEK),\n",
        "    WIEK > N,\n",
        "    write(OSOBA), nl,\n",
        "    fail.\n",
        "wiek_wiecej_niz(_) :-\n",
        "    write('Brak osób spełniających kryterium.'), nl.\n",
        "\n",
        "Zapytanie\n",
        "wiek_wiecej_niz(40)\n",
        "\n",
        "Result\n",
        "jan\n",
        "maria\n",
        "piotr\n",
        "ewa\n",
        "Brak osób spełniających kryterium\n",
        "true"
      ],
      "metadata": {
        "id": "xCx71HEkxYS2"
      },
      "execution_count": null,
      "outputs": []
    }
  ]
}