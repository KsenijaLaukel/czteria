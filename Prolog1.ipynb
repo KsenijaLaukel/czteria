{
  "nbformat": 4,
  "nbformat_minor": 0,
  "metadata": {
    "colab": {
      "provenance": [],
      "authorship_tag": "ABX9TyMcz49qXOmybflMQIxXXcq+",
      "include_colab_link": true
    },
    "kernelspec": {
      "name": "python3",
      "display_name": "Python 3"
    },
    "language_info": {
      "name": "python"
    }
  },
  "cells": [
    {
      "cell_type": "markdown",
      "metadata": {
        "id": "view-in-github",
        "colab_type": "text"
      },
      "source": [
        "<a href=\"https://colab.research.google.com/github/KsenijaLaukel/czteria/blob/main/Prolog1.ipynb\" target=\"_parent\"><img src=\"https://colab.research.google.com/assets/colab-badge.svg\" alt=\"Open In Colab\"/></a>"
      ]
    },
    {
      "cell_type": "markdown",
      "source": [],
      "metadata": {
        "id": "eRaF8V5scy8a"
      }
    },
    {
      "cell_type": "markdown",
      "source": [
        "Zadanie 1"
      ],
      "metadata": {
        "id": "y8T64wvcc0lt"
      }
    },
    {
      "cell_type": "code",
      "execution_count": null,
      "metadata": {
        "id": "o7vuwPIddrLy"
      },
      "outputs": [],
      "source": [
        "# Fakty zapisane jako słownik\n",
        "fakty = {\n",
        "    'ojciec': [('Jan', 'Anna'), ('Piotr', 'Kasia')],\n",
        "    'matka': [('Maria', 'Anna'), ('Ewa', 'Kasia')]\n",
        "}\n",
        "\n",
        "# Funkcja do sprawdzania reguły rodzica\n",
        "def czy_jest_matką(osoba1, osoba2):\n",
        "    return (osoba1, osoba2) in fakty.get('matka', [])\n",
        "\n",
        "print(czy_jest_matką('Maria', 'Kasia'))  # True"
      ]
    },
    {
      "cell_type": "code",
      "source": [
        "# Fakty zapisane jako słownik\n",
        "fakty = {\n",
        "    'ojciec': [('Jan', 'Anna'), ('Piotr', 'Kasia')],\n",
        "    'matka': [('Maria', 'Anna'), ('Ewa', 'Kasia')]\n",
        "}\n",
        "\n",
        "# Funkcja do sprawdzania reguły rodzica\n",
        "def czy_jest_rodzicem(osoba1, osoba2):\n",
        "    return (osoba1, osoba2) in fakty.get('matka', []) or (osoba1, osoba2) in fakty.get('ojciec', [])\n",
        "\n",
        "print(czy_jest_rodzicem('Ewa', 'Kasia'))  # True"
      ],
      "metadata": {
        "colab": {
          "base_uri": "https://localhost:8080/"
        },
        "id": "3Z1wDBICeQ0L",
        "outputId": "4e43f2d5-55f9-4d41-9929-7af40510d5ff"
      },
      "execution_count": null,
      "outputs": [
        {
          "output_type": "stream",
          "name": "stdout",
          "text": [
            "True\n"
          ]
        }
      ]
    },
    {
      "cell_type": "code",
      "source": [],
      "metadata": {
        "id": "eiMuFyyXlCHk"
      },
      "execution_count": null,
      "outputs": []
    },
    {
      "cell_type": "markdown",
      "source": [
        "Zadanie 2"
      ],
      "metadata": {
        "id": "72PEx9ZrdHwR"
      }
    },
    {
      "cell_type": "code",
      "source": [
        "# Fakty zapisane jako słownik\n",
        "fakty = {\n",
        "    'ojciec': [('Jan', 'Anna'), ('Piotr', 'Kasia')],\n",
        "    'matka': [('Maria', 'Anna'), ('Ewa', 'Kasia')],\n",
        "    'zwierze': [('Kot', 'Anna'), ('Pies', 'Kasia')],\n",
        "}\n",
        "\n",
        "# Funkcja do sprawdzania reguły rodzica\n",
        "def czy_jest_zwierze(osoba1, osoba2):\n",
        "    return (osoba1, osoba2) in fakty.get('matka', []) or (osoba1, osoba2) in fakty.get('ojciec', []) or (osoba1, osoba2) in fakty.get('zwierze',[])\n",
        "\n",
        "print(czy_jest_zwierze('Kot', 'Anna'))  # True"
      ],
      "metadata": {
        "colab": {
          "base_uri": "https://localhost:8080/"
        },
        "id": "xuFtJxh7gwGj",
        "outputId": "8fd92bf6-2b13-47f5-9c25-ac458587169b"
      },
      "execution_count": null,
      "outputs": [
        {
          "output_type": "stream",
          "name": "stdout",
          "text": [
            "True\n"
          ]
        }
      ]
    },
    {
      "cell_type": "markdown",
      "source": [
        "Zadanie 3"
      ],
      "metadata": {
        "id": "ltfDOHE9d7sC"
      }
    },
    {
      "cell_type": "code",
      "source": [
        "fakty = {\n",
        "    'ojciec': [('Jan', 'Anna'), ('Piotr', 'Kasia')],\n",
        "    'matka': [('Maria', 'Anna'), ('Ewa', 'Kasia')]\n",
        "}\n",
        "\n",
        "def czy_jest_rodzicem(osoba1, osoba2):\n",
        "    return (osoba1, osoba2) in fakty['ojciec'] or (osoba1, osoba2) in fakty['matka']\n",
        "\n",
        "def znajdz_rodzicow(dziecko):\n",
        "    rodzice = []\n",
        "    for rodzic, dziecko_w_faktach in fakty['ojciec'] + fakty['matka']:\n",
        "        if dziecko_w_faktach == dziecko:\n",
        "            rodzice.append(rodzic)\n",
        "    return rodzice\n",
        "\n",
        "def dodaj_pra_pra_dziadkow():\n",
        "    fakty['pra-pra-dziadek'] = []\n",
        "    fakty['pra-pra-babcia'] = []\n",
        "\n",
        "    for rodzic, dziecko in fakty['ojciec'] + fakty['matka']:\n",
        "        rodzice_rodzica = znajdz_rodzicow(rodzic)\n",
        "        for dziadek in rodzice_rodzica:\n",
        "            if (rodzic, dziecko) in fakty['ojciec']:\n",
        "                fakty['pra-pra-dziadek'].append((dziadek, dziecko))\n",
        "            else:\n",
        "                fakty['pra-pra-babcia'].append((dziadek, dziecko))\n",
        "\n",
        "dodaj_pra_pra_dziadkow()\n",
        "\n",
        "print(fakty)\n"
      ],
      "metadata": {
        "colab": {
          "base_uri": "https://localhost:8080/"
        },
        "id": "2oeOjiO-d6hm",
        "outputId": "36f0642f-1ff8-4495-c861-684570387a46"
      },
      "execution_count": 5,
      "outputs": [
        {
          "output_type": "stream",
          "name": "stdout",
          "text": [
            "{'ojciec': [('Jan', 'Anna'), ('Piotr', 'Kasia')], 'matka': [('Maria', 'Anna'), ('Ewa', 'Kasia')], 'pra-pra-dziadek': [], 'pra-pra-babcia': []}\n"
          ]
        }
      ]
    },
    {
      "cell_type": "markdown",
      "source": [
        "Zadanie 4"
      ],
      "metadata": {
        "id": "m07mvuxwdU5B"
      }
    },
    {
      "cell_type": "code",
      "source": [
        "fakty = {\n",
        "    'ojciec': [('Jan', 'Anna'), ('Piotr', 'Kasia')],\n",
        "    'matka': [('Maria', 'Anna'), ('Ewa', 'Kasia')],\n",
        "}\n",
        "\n",
        "def czy_jest_rodzicem(osoba1, osoba2):\n",
        "    return (osoba1, osoba2) in fakty.get('matka', []) or (osoba1, osoba2) in fakty.get('ojciec', [])\n",
        "\n",
        "def znajdz_przodkow(osoba, stopien):\n",
        "    przodkowie = set()\n",
        "    aktualna_generacja = {osoba}\n",
        "\n",
        "    for i in range(stopien):\n",
        "        nastepna_generacja = set()\n",
        "\n",
        "        for osoba in aktualna_generacja:\n",
        "            for rola, relacje in fakty.items():\n",
        "                for rodzic, dziecko in relacje:\n",
        "                    if dziecko == osoba:\n",
        "                        nastepna_generacja.add(rodzic)\n",
        "                        przodkowie.add((rola, rodzic, i + 1))\n",
        "\n",
        "        aktualna_generacja = nastepna_generacja\n",
        "\n",
        "    return przodkowie\n",
        "\n",
        "def modyfikuj_fakty(dodany_stopien):\n",
        "    nowe_fakty = {'pra-pra-dziadek': [], 'pra-pra-babcia': []}\n",
        "\n",
        "    for dziecko, _ in fakty.get('ojciec', []) + fakty.get('matka', []):\n",
        "        przodkowie = znajdz_przodkow(dziecko, dodany_stopien)\n",
        "\n",
        "        for rola, osoba, stopien in przodkowie:\n",
        "            if stopien == dodany_stopien:\n",
        "                if rola == 'ojciec':\n",
        "                    nowe_fakty['pra-pra-dziadek'].append((osoba, dziecko))\n",
        "                elif rola == 'matka':\n",
        "                    nowe_fakty['pra-pra-babcia'].append((osoba, dziecko))\n",
        "\n",
        "    fakty.update(nowe_fakty)\n",
        "\n",
        "modyfikuj_fakty(2)\n",
        "print(fakty)\n"
      ],
      "metadata": {
        "id": "IAR7uSUc7pNn",
        "colab": {
          "base_uri": "https://localhost:8080/"
        },
        "outputId": "de02b382-59aa-4a4b-bfa1-01514c1280f2"
      },
      "execution_count": null,
      "outputs": [
        {
          "output_type": "stream",
          "name": "stdout",
          "text": [
            "{'ojciec': [('Jan', 'Anna'), ('Piotr', 'Kasia')], 'matka': [('Maria', 'Anna'), ('Ewa', 'Kasia')], 'pra-pra-dziadek': [], 'pra-pra-babcia': []}\n"
          ]
        }
      ]
    },
    {
      "cell_type": "markdown",
      "source": [
        "Zadanie 5"
      ],
      "metadata": {
        "id": "I5mwjVSGdROw"
      }
    },
    {
      "cell_type": "code",
      "source": [
        "fakty2 = {\n",
        "    'ojciec': [('Jan', 'Anna'), ('Piotr', 'Kasia')],\n",
        "    'matka': [('Maria', 'Anna'), ('Ewa', 'Kasia')],\n",
        "}\n",
        "\n",
        "def jest_rodzicem(rodzic, dziecko):\n",
        "    return (rodzic, dziecko) in fakty2.get('matka', []) or (rodzic, dziecko) in fakty2.get('ojciec', [])\n",
        "\n",
        "def dodaj_dziadkow_i_babcie():\n",
        "    nowe_fakty = {'dziadek': [], 'babcia': []}\n",
        "\n",
        "    for rodzaj, relacje in fakty2.items():\n",
        "        for rodzic, dziecko in relacje:\n",
        "            for rodzaj_rodzica, relacje_rodzica in fakty2.items():\n",
        "                for dziadek_babcia, rodzic_rodzica in relacje_rodzica:\n",
        "                    if rodzic_rodzica == rodzic:\n",
        "                        if rodzaj_rodzica == 'ojciec':\n",
        "                            nowe_fakty['dziadek'].append((dziadek_babcia, dziecko))\n",
        "                        elif rodzaj_rodzica == 'matka':\n",
        "                            nowe_fakty['babcia'].append((dziadek_babcia, dziecko))\n",
        "\n",
        "    fakty2.update(nowe_fakty)\n",
        "\n",
        "dodaj_dziadkow_i_babcie()\n",
        "print(fakty2)\n"
      ],
      "metadata": {
        "id": "FVqzsKKJu_kC",
        "colab": {
          "base_uri": "https://localhost:8080/"
        },
        "outputId": "62384612-a003-451d-bcef-3d1b667fe69d"
      },
      "execution_count": 1,
      "outputs": [
        {
          "output_type": "stream",
          "name": "stdout",
          "text": [
            "{'ojciec': [('Jan', 'Anna'), ('Piotr', 'Kasia')], 'matka': [('Maria', 'Anna'), ('Ewa', 'Kasia')], 'dziadek': [], 'babcia': []}\n"
          ]
        }
      ]
    },
    {
      "cell_type": "code",
      "source": [],
      "metadata": {
        "id": "_LaSHyiNvx47"
      },
      "execution_count": null,
      "outputs": []
    }
  ]
}